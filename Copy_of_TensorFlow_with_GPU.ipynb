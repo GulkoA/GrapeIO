{
  "cells": [
    {
      "cell_type": "code",
      "execution_count": 2,
      "metadata": {
        "id": "Y04m-jvKRDsJ"
      },
      "outputs": [],
      "source": [
        "import pandas as pd\n",
        "from keras.models import Sequential\n",
        "from keras.layers import Dense\n",
        "# from keras.wrappers.scikit_learn import KerasClassifier\n",
        "from keras.utils import np_utils\n",
        "from sklearn.model_selection import cross_val_score\n",
        "from sklearn.model_selection import KFold\n",
        "from sklearn.preprocessing import LabelEncoder\n",
        "from sklearn.pipeline import Pipeline\n",
        "import numpy as np\n",
        "from scipy import stats\n"
      ]
    },
    {
      "cell_type": "code",
      "source": [
        "dataframe = pd.read_csv(\"train.csv\", header=None)\n",
        "dataset = dataframe.values\n",
        "preCleanX = dataset[1:,1:-1].astype(float)\n",
        "preCleanY = dataset[1:,-1]\n",
        "for d in range(11):\n",
        "  print(preCleanX[:,d].mean())\n",
        "m = preCleanX.mean(axis=0)\n",
        "s = preCleanX.std(axis=0)\n",
        "print(m)\n",
        "print(s)\n",
        "preCleanX = (preCleanX - m)/s\n",
        "\n",
        "notOutlierIndexes = (np.abs(stats.zscore(preCleanX)) < 3).all(axis=1)\n",
        "\n",
        "X = preCleanX[notOutlierIndexes]\n",
        "Y = preCleanY[notOutlierIndexes]\n",
        "\n",
        "\n",
        "\n",
        "print(X.shape)\n",
        "print(Y.shape)\n",
        "for d in range(11):\n",
        "  print(X[:,d].mean())\n"
      ],
      "metadata": {
        "id": "3Qx1dg-CfPlL",
        "outputId": "de5861ae-05e1-4d3d-aa1e-db8aed017c55",
        "colab": {
          "base_uri": "https://localhost:8080/"
        }
      },
      "execution_count": 3,
      "outputs": [
        {
          "output_type": "stream",
          "name": "stdout",
          "text": [
            "8.365175097276264\n",
            "0.5276006809338522\n",
            "0.26505836575875485\n",
            "2.3988813229571986\n",
            "0.08185603112840467\n",
            "16.955982490272373\n",
            "49.23686770428016\n",
            "0.9967477023346303\n",
            "3.31056906614786\n",
            "0.6413083657587549\n",
            "10.4149724383917\n",
            "[ 8.3651751   0.52760068  0.26505837  2.39888132  0.08185603 16.95598249\n",
            " 49.2368677   0.9967477   3.31056907  0.64130837 10.41497244]\n",
            "[1.70497477e+00 1.73122029e-01 1.88221495e-01 8.58614628e-01\n",
            " 2.37229406e-02 1.00072752e+01 3.29531241e+01 1.82702374e-03\n",
            " 1.42286830e-01 1.37908185e-01 1.02857518e+00]\n",
            "(1887, 11)\n",
            "(1887,)\n",
            "-0.030424825787348456\n",
            "0.0027075781877047033\n",
            "-0.03008423294357652\n",
            "-0.11550326266213323\n",
            "-0.07792507577590503\n",
            "0.004901629544006037\n",
            "-0.0009322448576926227\n",
            "-0.033385112047886176\n",
            "0.014585629398535452\n",
            "-0.0808464213153493\n",
            "-0.013131044430345606\n"
          ]
        }
      ]
    },
    {
      "cell_type": "code",
      "source": [
        "encoder = LabelEncoder()\n",
        "encoder.fit(Y)\n",
        "encoded_Y = encoder.transform(Y)\n",
        "# convert integers to dummy variables (i.e. one hot encoded)\n",
        "dummy_y = np_utils.to_categorical(encoded_Y)"
      ],
      "metadata": {
        "id": "L2IhyE8Fok6o"
      },
      "execution_count": 35,
      "outputs": []
    },
    {
      "cell_type": "code",
      "source": [
        "def baseline_model():\n",
        " # create model\n",
        " model = Sequential()\n",
        " model.add(Dense(20, input_dim=X.shape[1], activation='relu'))\n",
        " model.add(Dense(10, activation='relu'))\n",
        " model.add(Dense(1))\n",
        " # Compile model\n",
        " model.compile(loss='mean_squared_error', optimizer='adam', metrics=['mean_squared_error'])\n",
        "#  model.compile(loss='categorical_crossentropy', optimizer='adam', metrics=['accuracy'])\n",
        " return model"
      ],
      "metadata": {
        "id": "p04Der_QozdY"
      },
      "execution_count": 4,
      "outputs": []
    },
    {
      "cell_type": "code",
      "source": [
        "# estimator = KerasClassifier(build_fn=baseline_model, epochs=6, batch_size=1, verbose=2)\n",
        "model = baseline_model()\n",
        "model.fit(X, Y.astype(float), batch_size=1, epochs=5)"
      ],
      "metadata": {
        "colab": {
          "base_uri": "https://localhost:8080/"
        },
        "id": "oG2i_vqSwXCG",
        "outputId": "ee3d1ee0-dce4-478f-89e1-a4f2cf6f9b16"
      },
      "execution_count": 11,
      "outputs": [
        {
          "output_type": "stream",
          "name": "stdout",
          "text": [
            "Epoch 1/5\n",
            "1887/1887 [==============================] - 6s 3ms/step - loss: 3.5483 - mean_squared_error: 3.5483\n",
            "Epoch 2/5\n",
            "1887/1887 [==============================] - 5s 3ms/step - loss: 0.8215 - mean_squared_error: 0.8215\n",
            "Epoch 3/5\n",
            "1887/1887 [==============================] - 5s 3ms/step - loss: 0.6578 - mean_squared_error: 0.6578\n",
            "Epoch 4/5\n",
            "1887/1887 [==============================] - 5s 3ms/step - loss: 0.5790 - mean_squared_error: 0.5790\n",
            "Epoch 5/5\n",
            "1887/1887 [==============================] - 7s 4ms/step - loss: 0.5483 - mean_squared_error: 0.5483\n"
          ]
        },
        {
          "output_type": "execute_result",
          "data": {
            "text/plain": [
              "<keras.callbacks.History at 0x7fd490046760>"
            ]
          },
          "metadata": {},
          "execution_count": 11
        }
      ]
    },
    {
      "cell_type": "code",
      "source": [
        "sum(abs(model.predict(X[0:100].reshape((100,11))) - Y[0:100].astype(float).reshape(100,1)) > 0.5)"
      ],
      "metadata": {
        "colab": {
          "base_uri": "https://localhost:8080/"
        },
        "id": "UhKtc2noCO6g",
        "outputId": "cb214bda-de3d-46a8-a7a9-4ec74f0f4d6a"
      },
      "execution_count": 12,
      "outputs": [
        {
          "output_type": "stream",
          "name": "stdout",
          "text": [
            "4/4 [==============================] - 0s 3ms/step\n"
          ]
        },
        {
          "output_type": "execute_result",
          "data": {
            "text/plain": [
              "array([39])"
            ]
          },
          "metadata": {},
          "execution_count": 12
        }
      ]
    },
    {
      "cell_type": "code",
      "source": [
        "dataframetest = pd.read_csv(\"test.csv\", header=None)\n",
        "testdataset = dataframetest.values\n",
        "testX = testdataset[1:,1:].astype(float)\n",
        "print(m)\n",
        "print(s)\n",
        "testX = (testX - m)/s\n",
        "print(testX.shape)\n",
        "predictedY = np.rint(model.predict(testX.reshape((1372,11)))).reshape(1372,)\n",
        "\n",
        "testOutputData = {\"Id\": testdataset[1:,0], \"quality\": predictedY}\n",
        "testOutputFrame = pd.DataFrame(testOutputData)\n",
        "testOutputFrame.to_csv('best_submission.csv')\n",
        "from google.colab import files\n",
        "files.download('best_submission.csv')\n"
      ],
      "metadata": {
        "colab": {
          "base_uri": "https://localhost:8080/",
          "height": 146
        },
        "id": "J-koydHf4EQ7",
        "outputId": "0992cbf1-1209-4505-9ae1-f04dbc439745"
      },
      "execution_count": 13,
      "outputs": [
        {
          "output_type": "stream",
          "name": "stdout",
          "text": [
            "[ 8.3651751   0.52760068  0.26505837  2.39888132  0.08185603 16.95598249\n",
            " 49.2368677   0.9967477   3.31056907  0.64130837 10.41497244]\n",
            "[1.70497477e+00 1.73122029e-01 1.88221495e-01 8.58614628e-01\n",
            " 2.37229406e-02 1.00072752e+01 3.29531241e+01 1.82702374e-03\n",
            " 1.42286830e-01 1.37908185e-01 1.02857518e+00]\n",
            "(1372, 11)\n",
            "43/43 [==============================] - 0s 1ms/step\n"
          ]
        },
        {
          "output_type": "display_data",
          "data": {
            "text/plain": [
              "<IPython.core.display.Javascript object>"
            ],
            "application/javascript": [
              "\n",
              "    async function download(id, filename, size) {\n",
              "      if (!google.colab.kernel.accessAllowed) {\n",
              "        return;\n",
              "      }\n",
              "      const div = document.createElement('div');\n",
              "      const label = document.createElement('label');\n",
              "      label.textContent = `Downloading \"${filename}\": `;\n",
              "      div.appendChild(label);\n",
              "      const progress = document.createElement('progress');\n",
              "      progress.max = size;\n",
              "      div.appendChild(progress);\n",
              "      document.body.appendChild(div);\n",
              "\n",
              "      const buffers = [];\n",
              "      let downloaded = 0;\n",
              "\n",
              "      const channel = await google.colab.kernel.comms.open(id);\n",
              "      // Send a message to notify the kernel that we're ready.\n",
              "      channel.send({})\n",
              "\n",
              "      for await (const message of channel.messages) {\n",
              "        // Send a message to notify the kernel that we're ready.\n",
              "        channel.send({})\n",
              "        if (message.buffers) {\n",
              "          for (const buffer of message.buffers) {\n",
              "            buffers.push(buffer);\n",
              "            downloaded += buffer.byteLength;\n",
              "            progress.value = downloaded;\n",
              "          }\n",
              "        }\n",
              "      }\n",
              "      const blob = new Blob(buffers, {type: 'application/binary'});\n",
              "      const a = document.createElement('a');\n",
              "      a.href = window.URL.createObjectURL(blob);\n",
              "      a.download = filename;\n",
              "      div.appendChild(a);\n",
              "      a.click();\n",
              "      div.remove();\n",
              "    }\n",
              "  "
            ]
          },
          "metadata": {}
        },
        {
          "output_type": "display_data",
          "data": {
            "text/plain": [
              "<IPython.core.display.Javascript object>"
            ],
            "application/javascript": [
              "download(\"download_5a17acf6-a87b-468c-aa21-1b3e693bc6fb\", \"best_submission.csv\", 18110)"
            ]
          },
          "metadata": {}
        }
      ]
    },
    {
      "cell_type": "code",
      "source": [
        "\n",
        "print(predictedY.shape)"
      ],
      "metadata": {
        "colab": {
          "base_uri": "https://localhost:8080/"
        },
        "id": "OkiTebobFjWf",
        "outputId": "3298638b-4b4b-46f0-879e-921acb0d8a48"
      },
      "execution_count": 39,
      "outputs": [
        {
          "output_type": "stream",
          "name": "stdout",
          "text": [
            "43/43 [==============================] - 0s 1ms/step\n",
            "(1372,)\n"
          ]
        }
      ]
    },
    {
      "cell_type": "code",
      "source": [
        "testX = testdataset[1:,1:].astype(float)\n",
        "mT = testX.mean(axis=0)\n",
        "sT = testX.std(axis=0)\n",
        "print(mT)\n",
        "print(m)\n",
        "print(sT)\n",
        "print(s)\n"
      ],
      "metadata": {
        "colab": {
          "base_uri": "https://localhost:8080/"
        },
        "id": "7L3aEdMkFH8M",
        "outputId": "82d1e85b-2461-4891-e510-a8adc0a4f7e4"
      },
      "execution_count": 50,
      "outputs": [
        {
          "output_type": "stream",
          "name": "stdout",
          "text": [
            "[ 8.36960641  0.52431122  0.27056851  2.41592566  0.08130685 17.16253644\n",
            " 49.08928571  0.99666993  3.31222303  0.64726676 10.47308066]\n",
            "[ 8.3651751   0.52760068  0.26505837  2.39888132  0.08185603 16.95598249\n",
            " 49.2368677   0.9967477   3.31056907  0.64130837 10.41497244]\n",
            "[1.66408700e+00 1.76877319e-01 1.85663566e-01 9.20819101e-01\n",
            " 2.65563351e-02 9.97044665e+00 3.27917641e+01 1.82097833e-03\n",
            " 1.41353102e-01 1.34743170e-01 1.02679587e+00]\n",
            "[1.70497477e+00 1.73122029e-01 1.88221495e-01 8.58614628e-01\n",
            " 2.37229406e-02 1.00072752e+01 3.29531241e+01 1.82702374e-03\n",
            " 1.42286830e-01 1.37908185e-01 1.02857518e+00]\n"
          ]
        }
      ]
    },
    {
      "cell_type": "code",
      "source": [
        "!pip3 install keras-visualizer\n",
        "from keras_visualizer import visualizer \n",
        "visualizer(model, format='png', view=True)"
      ],
      "metadata": {
        "colab": {
          "base_uri": "https://localhost:8080/"
        },
        "id": "QKTIFZ8m8uZu",
        "outputId": "8f520e07-692e-48e5-f53e-69d7e4245682"
      },
      "execution_count": 52,
      "outputs": [
        {
          "output_type": "stream",
          "name": "stdout",
          "text": [
            "Looking in indexes: https://pypi.org/simple, https://us-python.pkg.dev/colab-wheels/public/simple/\n",
            "Requirement already satisfied: keras-visualizer in /usr/local/lib/python3.8/dist-packages (2.4)\n"
          ]
        }
      ]
    },
    {
      "cell_type": "code",
      "source": [
        "sum((np.abs(stats.zscore(testX)) >= 3).all(axis=1))"
      ],
      "metadata": {
        "colab": {
          "base_uri": "https://localhost:8080/"
        },
        "id": "JCbpapg792gU",
        "outputId": "3f2f6503-e6e6-46f1-926d-23dc6c87641f"
      },
      "execution_count": 32,
      "outputs": [
        {
          "output_type": "execute_result",
          "data": {
            "text/plain": [
              "0"
            ]
          },
          "metadata": {},
          "execution_count": 32
        }
      ]
    },
    {
      "cell_type": "code",
      "source": [
        "import tensorflowjs as tfjs\n",
        "tfjs.converters.save_keras_model(model, 'wine.js')"
      ],
      "metadata": {
        "id": "-xP-ZSfVZbjj"
      },
      "execution_count": null,
      "outputs": []
    },
    {
      "cell_type": "code",
      "source": [
        "from google.colab import files\n",
        "!zip wine.zip wine.js/*\n",
        "files.download('wine.zip')"
      ],
      "metadata": {
        "colab": {
          "base_uri": "https://localhost:8080/",
          "height": 54
        },
        "id": "KR-0ufK1gyJb",
        "outputId": "70c3f97e-0050-4108-801d-8f0c3e907dd4"
      },
      "execution_count": null,
      "outputs": [
        {
          "output_type": "stream",
          "name": "stdout",
          "text": [
            "updating: wine.js/group1-shard1of1.bin (deflated 5%)\n",
            "updating: wine.js/model.json (deflated 73%)\n"
          ]
        },
        {
          "output_type": "display_data",
          "data": {
            "text/plain": [
              "<IPython.core.display.Javascript object>"
            ],
            "application/javascript": [
              "\n",
              "    async function download(id, filename, size) {\n",
              "      if (!google.colab.kernel.accessAllowed) {\n",
              "        return;\n",
              "      }\n",
              "      const div = document.createElement('div');\n",
              "      const label = document.createElement('label');\n",
              "      label.textContent = `Downloading \"${filename}\": `;\n",
              "      div.appendChild(label);\n",
              "      const progress = document.createElement('progress');\n",
              "      progress.max = size;\n",
              "      div.appendChild(progress);\n",
              "      document.body.appendChild(div);\n",
              "\n",
              "      const buffers = [];\n",
              "      let downloaded = 0;\n",
              "\n",
              "      const channel = await google.colab.kernel.comms.open(id);\n",
              "      // Send a message to notify the kernel that we're ready.\n",
              "      channel.send({})\n",
              "\n",
              "      for await (const message of channel.messages) {\n",
              "        // Send a message to notify the kernel that we're ready.\n",
              "        channel.send({})\n",
              "        if (message.buffers) {\n",
              "          for (const buffer of message.buffers) {\n",
              "            buffers.push(buffer);\n",
              "            downloaded += buffer.byteLength;\n",
              "            progress.value = downloaded;\n",
              "          }\n",
              "        }\n",
              "      }\n",
              "      const blob = new Blob(buffers, {type: 'application/binary'});\n",
              "      const a = document.createElement('a');\n",
              "      a.href = window.URL.createObjectURL(blob);\n",
              "      a.download = filename;\n",
              "      div.appendChild(a);\n",
              "      a.click();\n",
              "      div.remove();\n",
              "    }\n",
              "  "
            ]
          },
          "metadata": {}
        },
        {
          "output_type": "display_data",
          "data": {
            "text/plain": [
              "<IPython.core.display.Javascript object>"
            ],
            "application/javascript": [
              "download(\"download_bfd82e6b-0a11-4702-acbd-7e5508e5b862\", \"wine.zip\", 3224)"
            ]
          },
          "metadata": {}
        }
      ]
    },
    {
      "cell_type": "code",
      "source": [
        "kfold = KFold(n_splits=10, shuffle=True)\n",
        "results = cross_val_score(estimator, X, dummy_y, cv=kfold)\n",
        "print(\"Baseline: %.2f%% (%.2f%%)\" % (results.mean()*100, results.std()*100))"
      ],
      "metadata": {
        "colab": {
          "base_uri": "https://localhost:8080/"
        },
        "id": "wB5qU1GFwwbY",
        "outputId": "1d13b171-6cc4-4f94-8c5b-2f0e2b365b1b"
      },
      "execution_count": null,
      "outputs": [
        {
          "output_type": "stream",
          "name": "stdout",
          "text": [
            "Epoch 1/5\n",
            "1698/1698 - 4s - loss: 1.1504 - accuracy: 0.5306 - 4s/epoch - 3ms/step\n",
            "Epoch 2/5\n",
            "1698/1698 - 3s - loss: 1.0216 - accuracy: 0.5760 - 3s/epoch - 2ms/step\n",
            "Epoch 3/5\n",
            "1698/1698 - 4s - loss: 1.0002 - accuracy: 0.5760 - 4s/epoch - 2ms/step\n",
            "Epoch 4/5\n",
            "1698/1698 - 3s - loss: 0.9884 - accuracy: 0.5866 - 3s/epoch - 2ms/step\n",
            "Epoch 5/5\n",
            "1698/1698 - 3s - loss: 0.9808 - accuracy: 0.5978 - 3s/epoch - 2ms/step\n",
            "189/189 - 0s - loss: 1.0986 - accuracy: 0.6296 - 400ms/epoch - 2ms/step\n",
            "Epoch 1/5\n",
            "1698/1698 - 5s - loss: 1.1758 - accuracy: 0.5359 - 5s/epoch - 3ms/step\n",
            "Epoch 2/5\n",
            "1698/1698 - 3s - loss: 1.0390 - accuracy: 0.5724 - 3s/epoch - 2ms/step\n",
            "Epoch 3/5\n",
            "1698/1698 - 3s - loss: 1.0188 - accuracy: 0.5777 - 3s/epoch - 2ms/step\n",
            "Epoch 4/5\n",
            "1698/1698 - 4s - loss: 1.0074 - accuracy: 0.5883 - 4s/epoch - 2ms/step\n",
            "Epoch 5/5\n",
            "1698/1698 - 3s - loss: 0.9964 - accuracy: 0.5978 - 3s/epoch - 2ms/step\n",
            "189/189 - 0s - loss: 1.0263 - accuracy: 0.6138 - 400ms/epoch - 2ms/step\n",
            "Epoch 1/5\n",
            "1698/1698 - 5s - loss: 1.2048 - accuracy: 0.5035 - 5s/epoch - 3ms/step\n",
            "Epoch 2/5\n",
            "1698/1698 - 3s - loss: 1.0458 - accuracy: 0.5760 - 3s/epoch - 2ms/step\n",
            "Epoch 3/5\n",
            "1698/1698 - 3s - loss: 1.0155 - accuracy: 0.5848 - 3s/epoch - 2ms/step\n",
            "Epoch 4/5\n",
            "1698/1698 - 4s - loss: 1.0058 - accuracy: 0.5895 - 4s/epoch - 2ms/step\n",
            "Epoch 5/5\n",
            "1698/1698 - 4s - loss: 0.9947 - accuracy: 0.5966 - 4s/epoch - 2ms/step\n",
            "189/189 - 0s - loss: 1.0739 - accuracy: 0.5238 - 396ms/epoch - 2ms/step\n",
            "Epoch 1/5\n",
            "1698/1698 - 4s - loss: 1.2521 - accuracy: 0.4800 - 4s/epoch - 3ms/step\n",
            "Epoch 2/5\n",
            "1698/1698 - 4s - loss: 1.0457 - accuracy: 0.5748 - 4s/epoch - 2ms/step\n",
            "Epoch 3/5\n",
            "1698/1698 - 4s - loss: 1.0201 - accuracy: 0.5836 - 4s/epoch - 2ms/step\n",
            "Epoch 4/5\n",
            "1698/1698 - 3s - loss: 1.0066 - accuracy: 0.5907 - 3s/epoch - 2ms/step\n",
            "Epoch 5/5\n",
            "1698/1698 - 3s - loss: 0.9980 - accuracy: 0.5948 - 3s/epoch - 2ms/step\n",
            "189/189 - 0s - loss: 1.0392 - accuracy: 0.5661 - 419ms/epoch - 2ms/step\n",
            "Epoch 1/5\n",
            "1698/1698 - 5s - loss: 1.2819 - accuracy: 0.4488 - 5s/epoch - 3ms/step\n",
            "Epoch 2/5\n",
            "1698/1698 - 3s - loss: 1.0444 - accuracy: 0.5636 - 3s/epoch - 2ms/step\n",
            "Epoch 3/5\n",
            "1698/1698 - 4s - loss: 1.0062 - accuracy: 0.5936 - 4s/epoch - 2ms/step\n",
            "Epoch 4/5\n",
            "1698/1698 - 4s - loss: 0.9958 - accuracy: 0.5860 - 4s/epoch - 2ms/step\n",
            "Epoch 5/5\n",
            "1698/1698 - 3s - loss: 0.9820 - accuracy: 0.5919 - 3s/epoch - 2ms/step\n",
            "189/189 - 0s - loss: 1.0196 - accuracy: 0.5926 - 403ms/epoch - 2ms/step\n",
            "Epoch 1/5\n",
            "1698/1698 - 5s - loss: 1.2020 - accuracy: 0.5194 - 5s/epoch - 3ms/step\n",
            "Epoch 2/5\n",
            "1698/1698 - 3s - loss: 1.0288 - accuracy: 0.5830 - 3s/epoch - 2ms/step\n",
            "Epoch 3/5\n",
            "1698/1698 - 4s - loss: 1.0116 - accuracy: 0.5889 - 4s/epoch - 2ms/step\n",
            "Epoch 4/5\n",
            "1698/1698 - 4s - loss: 1.0014 - accuracy: 0.5907 - 4s/epoch - 2ms/step\n",
            "Epoch 5/5\n",
            "1698/1698 - 3s - loss: 0.9926 - accuracy: 0.5984 - 3s/epoch - 2ms/step\n",
            "189/189 - 0s - loss: 1.0459 - accuracy: 0.5873 - 439ms/epoch - 2ms/step\n",
            "Epoch 1/5\n",
            "1698/1698 - 5s - loss: 1.1772 - accuracy: 0.5300 - 5s/epoch - 3ms/step\n",
            "Epoch 2/5\n",
            "1698/1698 - 4s - loss: 1.0378 - accuracy: 0.5754 - 4s/epoch - 2ms/step\n",
            "Epoch 3/5\n",
            "1698/1698 - 3s - loss: 1.0172 - accuracy: 0.5842 - 3s/epoch - 2ms/step\n",
            "Epoch 4/5\n",
            "1698/1698 - 3s - loss: 1.0085 - accuracy: 0.5913 - 3s/epoch - 2ms/step\n",
            "Epoch 5/5\n",
            "1698/1698 - 4s - loss: 0.9967 - accuracy: 0.5960 - 4s/epoch - 2ms/step\n",
            "189/189 - 0s - loss: 0.9355 - accuracy: 0.5979 - 433ms/epoch - 2ms/step\n",
            "Epoch 1/5\n",
            "1699/1699 - 4s - loss: 1.1937 - accuracy: 0.5091 - 4s/epoch - 3ms/step\n",
            "Epoch 2/5\n",
            "1699/1699 - 4s - loss: 1.0399 - accuracy: 0.5839 - 4s/epoch - 2ms/step\n",
            "Epoch 3/5\n",
            "1699/1699 - 3s - loss: 1.0205 - accuracy: 0.5845 - 3s/epoch - 2ms/step\n",
            "Epoch 4/5\n",
            "1699/1699 - 3s - loss: 1.0138 - accuracy: 0.5862 - 3s/epoch - 2ms/step\n",
            "Epoch 5/5\n",
            "1699/1699 - 4s - loss: 1.0046 - accuracy: 0.5886 - 4s/epoch - 2ms/step\n",
            "188/188 - 1s - loss: 0.9288 - accuracy: 0.5691 - 601ms/epoch - 3ms/step\n",
            "Epoch 1/5\n",
            "1699/1699 - 5s - loss: 1.2144 - accuracy: 0.5468 - 5s/epoch - 3ms/step\n",
            "Epoch 2/5\n",
            "1699/1699 - 3s - loss: 1.0354 - accuracy: 0.5798 - 3s/epoch - 2ms/step\n",
            "Epoch 3/5\n",
            "1699/1699 - 4s - loss: 1.0117 - accuracy: 0.5851 - 4s/epoch - 2ms/step\n",
            "Epoch 4/5\n",
            "1699/1699 - 4s - loss: 0.9962 - accuracy: 0.5880 - 4s/epoch - 2ms/step\n",
            "Epoch 5/5\n",
            "1699/1699 - 3s - loss: 0.9899 - accuracy: 0.5951 - 3s/epoch - 2ms/step\n",
            "188/188 - 0s - loss: 1.1664 - accuracy: 0.5213 - 409ms/epoch - 2ms/step\n",
            "Epoch 1/5\n",
            "1699/1699 - 5s - loss: 1.2072 - accuracy: 0.5232 - 5s/epoch - 3ms/step\n",
            "Epoch 2/5\n",
            "1699/1699 - 3s - loss: 1.0324 - accuracy: 0.5792 - 3s/epoch - 2ms/step\n",
            "Epoch 3/5\n",
            "1699/1699 - 3s - loss: 1.0093 - accuracy: 0.5915 - 3s/epoch - 2ms/step\n",
            "Epoch 4/5\n",
            "1699/1699 - 4s - loss: 0.9987 - accuracy: 0.5956 - 4s/epoch - 2ms/step\n",
            "Epoch 5/5\n",
            "1699/1699 - 4s - loss: 0.9885 - accuracy: 0.5974 - 4s/epoch - 2ms/step\n",
            "188/188 - 0s - loss: 1.0530 - accuracy: 0.5372 - 453ms/epoch - 2ms/step\n",
            "Baseline: 57.39% (3.54%)\n"
          ]
        }
      ]
    }
  ],
  "metadata": {
    "colab": {
      "provenance": []
    },
    "kernelspec": {
      "display_name": "Python 3",
      "name": "python3"
    },
    "accelerator": "GPU",
    "gpuClass": "standard"
  },
  "nbformat": 4,
  "nbformat_minor": 0
}